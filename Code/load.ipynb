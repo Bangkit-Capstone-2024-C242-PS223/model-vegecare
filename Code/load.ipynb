{
 "cells": [
  {
   "cell_type": "code",
   "execution_count": null,
   "metadata": {},
   "outputs": [],
   "source": [
    "import os\n",
    "import numpy as np\n",
    "import matplotlib.pyplot as plt\n",
    "import re\n",
    "import shutil\n",
    "from sklearn.model_selection import train_test_split\n",
    "\n",
    "import tensorflow as tf\n",
    "import keras\n",
    "from keras.preprocessing.image import ImageDataGenerator\n",
    "from keras.models import Sequential\n",
    "from keras.layers import Conv2D, MaxPooling2D, Flatten, Dense, Dropout\n",
    "from keras.layers.experimental import preprocessing"
   ]
  },
  {
   "cell_type": "code",
   "execution_count": null,
   "metadata": {},
   "outputs": [],
   "source": [
    "load_model = tf.keras.models.load_model(\"model/vegecare_model_mobilenetv2finetune.h5\")"
   ]
  },
  {
   "cell_type": "code",
   "execution_count": null,
   "metadata": {},
   "outputs": [],
   "source": [
    "classes = [\n",
    "    \"Cabai__Healthy\",\n",
    "    \"Cabai__Leaf_Curl\",\n",
    "    \"Cabai__Leaf_Spot\",\n",
    "    \"Cabai__Whitefly\",\n",
    "    \"Cabai__Yellowish\",\n",
    "    \"Kembang Kol__Bacterial_Spot_Rot\",\n",
    "    \"Kembang Kol__Black_Rot\",\n",
    "    \"Kembang Kol__Downy_Mildew\",\n",
    "    \"Kembang Kol__Healthy\",\n",
    "    \"Lettuce_Bacterial\",\n",
    "    \"Lettuce__Fungal\",\n",
    "    \"Lettuce__Healthy\",\n",
    "    \"Sawi_Hama_Ulat_Grayak\",\n",
    "    \"Sawi_Healthy\",\n",
    "    \"Terong__Healthy_Leaf\",\n",
    "    \"Terong__Insect_Pest_Disease\",\n",
    "    \"Terong__Leaf_Spot_Disease\",\n",
    "    \"Terong__Mosaic_Virus_Disease\",\n",
    "    \"Terong__Small_Leaf_Disease\",\n",
    "    \"Terong__White_Mold_Disease\",\n",
    "    \"Terong__Wilt_Disease\",\n",
    "    \"Timun__Anthracnose\",\n",
    "    \"Timun__Bacterial_Wilt\",\n",
    "    \"Timun__Belly_Rot\",\n",
    "    \"Timun__Downy_Mildew\",\n",
    "    \"Timun__Fresh_Leaf\",\n",
    "    \"Timun__Gummy_Stem_Blight\",\n",
    "    \"Timun__Pythium_Fruit_Rot\",\n",
    "    \"Tomato__Bacterial_Spot\",\n",
    "    \"Tomato__Early_Blight\",\n",
    "    \"Tomato__Healthy\",\n",
    "    \"Tomato__Late_Blight\",\n",
    "    \"Tomato__Leaf_Mold\",\n",
    "    \"Tomato__Septoria_Leaf_Spot\",\n",
    "    \"Tomato__Spider_Mites Two-Spotted_Spider_Mite\",\n",
    "    \"Tomato__Target_Spot\",\n",
    "    \"Tomato__Tomato_Mosaic_Virus\",\n",
    "    \"Tomato__Tomato_Yellow_Leaf_Curl_Virus\",\n",
    "]"
   ]
  },
  {
   "cell_type": "code",
   "execution_count": null,
   "metadata": {},
   "outputs": [],
   "source": [
    "# Paths\n",
    "train_dir = \"/content/train\"\n",
    "val_dir = \"/content/val\"\n",
    "test_dir = \"/content/test\""
   ]
  },
  {
   "cell_type": "code",
   "execution_count": null,
   "metadata": {},
   "outputs": [],
   "source": [
    "def create_datasets(path_dataset, image_size=(224, 224), batch_size=20):\n",
    "    AUTOTUNE = tf.data.AUTOTUNE\n",
    "    normalization_layer = tf.keras.layers.Rescaling(1.0 / 255)\n",
    "\n",
    "    train_ds = (\n",
    "        tf.keras.utils.image_dataset_from_directory(\n",
    "            train_dir,\n",
    "            seed=0,\n",
    "            batch_size=batch_size,\n",
    "            label_mode=\"categorical\",\n",
    "            image_size=image_size,\n",
    "        )\n",
    "        .map(lambda x, y: (normalization_layer(x), y))\n",
    "        .prefetch(buffer_size=AUTOTUNE)\n",
    "    )\n",
    "\n",
    "    validation_ds = (\n",
    "        tf.keras.utils.image_dataset_from_directory(\n",
    "            val_dir,\n",
    "            seed=0,\n",
    "            batch_size=batch_size,\n",
    "            label_mode=\"categorical\",\n",
    "            image_size=image_size,\n",
    "        )\n",
    "        .map(lambda x, y: (normalization_layer(x), y))\n",
    "        .prefetch(buffer_size=AUTOTUNE)\n",
    "    )\n",
    "\n",
    "    test_ds = (\n",
    "        tf.keras.utils.image_dataset_from_directory(\n",
    "            test_dir,\n",
    "            seed=0,\n",
    "            batch_size=batch_size,\n",
    "            label_mode=\"categorical\",\n",
    "            image_size=image_size,\n",
    "        )\n",
    "        .map(lambda x, y: (normalization_layer(x), y))\n",
    "        .prefetch(buffer_size=AUTOTUNE)\n",
    "    )\n",
    "\n",
    "    return train_ds, validation_ds, test_ds\n",
    "\n",
    "\n",
    "train_ds, validation_ds, test_ds = create_datasets(\"/content/\")"
   ]
  },
  {
   "cell_type": "code",
   "execution_count": null,
   "metadata": {},
   "outputs": [],
   "source": [
    "img_path = \"/content/test/Tomato__Tomato_Yellow_Leaf_Curl_Virus/0a3f5fbb-1b3b-4b3b-8b3b-3b3b3b3b3b3b___YLCV_NREC 2908.JPG\""
   ]
  },
  {
   "cell_type": "code",
   "execution_count": null,
   "metadata": {},
   "outputs": [],
   "source": [
    "from tensorflow.keras.preprocessing import image\n",
    "\n",
    "img = image.load_img(img_path, target_size=(224, 224))\n",
    "img_array = image.img_to_array(img)\n",
    "img_array = np.expand_dims(img_array, axis=0)"
   ]
  },
  {
   "cell_type": "code",
   "execution_count": null,
   "metadata": {},
   "outputs": [],
   "source": [
    "img"
   ]
  },
  {
   "cell_type": "code",
   "execution_count": null,
   "metadata": {},
   "outputs": [],
   "source": [
    "predictions = load_model.predict(img_array)"
   ]
  },
  {
   "cell_type": "code",
   "execution_count": null,
   "metadata": {},
   "outputs": [],
   "source": [
    "print(\"Predicted Class Index:\", CLASSES[predicted_class_index])"
   ]
  },
  {
   "cell_type": "code",
   "execution_count": null,
   "metadata": {},
   "outputs": [],
   "source": [
    "test_images = []\n",
    "test_labels = []\n",
    "\n",
    "for img, label in test_ds.unbatch().as_numpy_iterator():\n",
    "    img = img.astype(\"uint8\")\n",
    "    test_images.append(img)\n",
    "    test_labels.append(label)\n",
    "\n",
    "test_images = np.array(test_images)\n",
    "test_labels = np.array(test_labels)\n",
    "\n",
    "# Evaluate the model on the validation dataset\n",
    "loss, acc = load_model.evaluate(test_images, test_labels)\n",
    "\n",
    "print(f\"Validation Loss: {loss}, Validation Accuracy: {acc}\")"
   ]
  }
 ],
 "metadata": {
  "language_info": {
   "name": "python"
  }
 },
 "nbformat": 4,
 "nbformat_minor": 2
}
